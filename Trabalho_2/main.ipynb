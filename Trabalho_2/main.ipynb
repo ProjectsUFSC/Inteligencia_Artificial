{
 "cells": [
  {
   "cell_type": "markdown",
   "metadata": {},
   "source": [
    "# APRENDIZADO POR REFORÇO: JOGO FROZEN LAKE\n",
    "\n",
    "O objetivo do agente no ambiente Frozen Lake é alcançar o objetivo final (representado pelo 'G') no menor número de passos, evitando cair nos buracos (representados por 'H'). O ambiente é uma grade onde o agente pode se mover para cima, baixo, esquerda ou direita."
   ]
  },
  {
   "cell_type": "code",
   "execution_count": 22,
   "metadata": {},
   "outputs": [],
   "source": [
    "import numpy as np\n",
    "import gymnasium as gym\n",
    "import random\n",
    "from IPython.display import clear_output\n",
    "import time\n",
    "import matplotlib.pyplot as plt\n",
    "from gymnasium.envs.toy_text.frozen_lake import generate_random_map\n"
   ]
  },
  {
   "cell_type": "markdown",
   "metadata": {},
   "source": [
    "## Espaço de Ações\n",
    "O espaço de ações no Frozen Lake é discreto, com 4 ações possíveis:\n",
    "\n",
    "- **0:** Esquerda (Left)\n",
    "- **1:** Para baixo (Down)\n",
    "- **2:** Direita (Right)\n",
    "- **3:** Para cima (Up)\n",
    "\n",
    "Essas ações determinam o movimento do agente na grade.\n",
    "\n",
    "## Espaço de Observações\n",
    "O espaço de observações é representado pelos estados do ambiente, que são as posições do agente na grade. Cada posição é identificada por um índice único. O tamanho do espaço de observação depende do tamanho da grade (4x4, por exemplo, resulta em 16 estados possíveis).\n",
    "\n",
    "## Valores de Recompensa\n",
    "As recompensas no Frozen Lake são atribuídas da seguinte forma:\n",
    "\n",
    "- **+1:** Quando o agente alcança o objetivo ('G').\n",
    "- **0:** Para movimentos que não levam ao buraco ('H') ou ao objetivo.\n",
    "- **-inf (implícito):** Se o agente cair em um buraco ('H'), o episódio termina sem recompensa."
   ]
  },
  {
   "cell_type": "code",
   "execution_count": 23,
   "metadata": {},
   "outputs": [
    {
     "name": "stdout",
     "output_type": "stream",
     "text": [
      "\n",
      "\u001b[41mS\u001b[0mFFF\n",
      "HFHF\n",
      "FHHF\n",
      "HFFG\n",
      "\n"
     ]
    }
   ],
   "source": [
    "# Configurações do ambiente FrozenLake\n",
    "\n",
    "random_map = generate_random_map(size=4, p=0.8) # Gera um mapa aleatório\n",
    "env = gym.make(\"FrozenLake-v1\", render_mode=\"ansi\", is_slippery=False, desc=random_map)\n",
    "env.reset()\n",
    "env.render()\n",
    "print(env.render())\n"
   ]
  },
  {
   "cell_type": "markdown",
   "metadata": {},
   "source": [
    "## Processo de Treinamento para Formação da Tabela Q\n",
    "Algoritmo de aprendizado por reforço que busca aprender uma política ótima para o agente. A tabela \\( Q[s, a] \\) armazena os valores de recompensa esperada para cada estado \\( s \\) e ação \\( a \\). \n",
    "\n",
    "O processo de treinamento segue os passos:\n",
    "1. Inicializar a tabela Q com valores zeros.\n",
    "2. Para cada episódio:\n",
    "   - Observar o estado inicial.\n",
    "   - Escolher uma ação com base em uma política (e.g., epsilon-greedy).\n",
    "   - Executar a ação e observar a recompensa e o próximo estado.\n",
    "   - Atualizar o valor \\( Q[s, a] \\) usando a equação:\n",
    "     \n",
    "     \\[Q(s,a)←Q(s,a)+α[r+γ* amax * Q(s′,a) − Q(s,a)]\\]\n",
    "   - Repetir até o fim do episódio (quando o agente chega ao objetivo ou cai em um buraco).\n",
    "3. Ajustar os hiperparâmetros  (α , γ , ϵ) para melhorar o aprendizado."
   ]
  },
  {
   "cell_type": "code",
   "execution_count": 24,
   "metadata": {},
   "outputs": [
    {
     "name": "stdout",
     "output_type": "stream",
     "text": [
      "[[0. 0. 0. 0.]\n",
      " [0. 0. 0. 0.]\n",
      " [0. 0. 0. 0.]\n",
      " [0. 0. 0. 0.]\n",
      " [0. 0. 0. 0.]\n",
      " [0. 0. 0. 0.]\n",
      " [0. 0. 0. 0.]\n",
      " [0. 0. 0. 0.]\n",
      " [0. 0. 0. 0.]\n",
      " [0. 0. 0. 0.]\n",
      " [0. 0. 0. 0.]\n",
      " [0. 0. 0. 0.]\n",
      " [0. 0. 0. 0.]\n",
      " [0. 0. 0. 0.]\n",
      " [0. 0. 0. 0.]\n",
      " [0. 0. 0. 0.]]\n"
     ]
    }
   ],
   "source": [
    "num_states = env.observation_space.n\n",
    "num_actions = env.action_space.n\n",
    "q_table = np.zeros((num_states, num_actions))\n",
    "print(q_table)"
   ]
  },
  {
   "cell_type": "code",
   "execution_count": 25,
   "metadata": {},
   "outputs": [],
   "source": [
    "alpha = 0.1  # Taxa de aprendizado\n",
    "gamma = 0.99  # Fator de desconto\n",
    "epsilon = 0.05 # Taxa de exploração inicial\n",
    "num_episodes =700"
   ]
  },
  {
   "cell_type": "code",
   "execution_count": 26,
   "metadata": {},
   "outputs": [],
   "source": [
    "# Variáveis para armazenar métricas\n",
    "total_rewards = []\n",
    "total_steps = []\n",
    "success_rate = []\n",
    "penalty_rate = []"
   ]
  },
  {
   "cell_type": "markdown",
   "metadata": {},
   "source": [
    "### JOGO COM PENALIZAÇOES ORIGINAIS\n",
    "\n",
    "- **+1:** Quando o agente alcança o objetivo ('G').\n",
    "- **0:** Para movimentos que não levam ao buraco ('H') ou ao objetivo.\n",
    "- **-inf (implícito):** Se o agente cair em um buraco ('H'), o episódio termina sem recompensa."
   ]
  },
  {
   "cell_type": "code",
   "execution_count": 27,
   "metadata": {},
   "outputs": [
    {
     "name": "stdout",
     "output_type": "stream",
     "text": [
      "Episódio: 700, Taxa de sucesso: 95.00%\n",
      "\n",
      "Treinamento concluído!...epocas de treinamento:  700\n",
      "\n",
      "Número de sucessos: 643\n",
      "Número de penalidades: 57\n",
      "Recompensa média: 0.8371428571428572\n",
      "Taxa de penalização média: 8.14%\n",
      "Taxa de sucesso média: 91.86%\n"
     ]
    }
   ],
   "source": [
    "for episode in range(num_episodes):\n",
    "    \n",
    "    state, _ = env.reset()\n",
    "    sum_rewards, steps, penalty = 0, 0, 0\n",
    "    done = False\n",
    "\n",
    "    while not done:\n",
    "        # Exploração -> ação aleatória\n",
    "        if random.uniform(0, 1) < epsilon:\n",
    "            action = env.action_space.sample() \n",
    "        # Exploitação -> ação definida na tabela Q\n",
    "        else:\n",
    "            action = np.argmax(q_table[state])\n",
    "\n",
    "        next_state, reward, terminated, truncated, _ = env.step(action)\n",
    "        done = terminated or truncated\n",
    "\n",
    "        if done and reward == 1:  # Objetivo alcançado\n",
    "            reward = 1\n",
    "        elif done and reward == 0:  # Caiu no buraco\n",
    "            reward = -1\n",
    "            penalty += 1\n",
    "        else:  # Movimento válido sem alcançar objetivo ou buraco\n",
    "            reward = 0\n",
    "\n",
    "        q_old = q_table[state, action]\n",
    "        next_max = np.max(q_table[next_state])\n",
    "        q_table[state, action] = (1 - alpha) * q_old + alpha * (reward + gamma * next_max)\n",
    "\n",
    "        state = next_state\n",
    "        sum_rewards += reward\n",
    "        steps += 1\n",
    "\n",
    "    \n",
    "    total_rewards.append(sum_rewards)\n",
    "    total_steps.append(steps)\n",
    "    penalty_rate.append(penalty)\n",
    "    success_rate.append(1 if sum_rewards > 0 else 0)\n",
    "\n",
    "    if (episode + 1) % 100 == 0:\n",
    "        clear_output(wait=True)\n",
    "        print(f\"Episódio: {episode + 1}, Taxa de sucesso: {np.mean(success_rate[-100:]) * 100:.2f}%\")\n",
    "        time.sleep(0.1)\n",
    "\n",
    "        # TROCA O MAPA A CADA 100 EPISÓDIOS\n",
    "        # random_map = generate_random_map(size=4, p=0.8)\n",
    "        # env = gym.make(\"FrozenLake-v1\", render_mode=\"ansi\", is_slippery=True, desc=random_map)\n",
    "\n",
    "print(\"\\nTreinamento concluído!...epocas de treinamento: \", num_episodes)\n",
    "print(f\"\\nNúmero de sucessos: {np.sum(success_rate)}\")\n",
    "print(f\"Número de penalidades: {np.sum(penalty_rate)}\")\n",
    "print(f\"Recompensa média: {np.mean(total_rewards)}\")\n",
    "print(f\"Taxa de penalização média: {np.mean(penalty_rate) * 100:.2f}%\")\n",
    "print(f\"Taxa de sucesso média: {np.mean(success_rate) * 100:.2f}%\")"
   ]
  },
  {
   "cell_type": "markdown",
   "metadata": {},
   "source": [
    "### Q-TABLE FINAL "
   ]
  },
  {
   "cell_type": "code",
   "execution_count": 28,
   "metadata": {},
   "outputs": [
    {
     "name": "stdout",
     "output_type": "stream",
     "text": [
      "[[ 0.53497368 -0.6861894   0.95099005  0.37711188]\n",
      " [ 0.57586217  0.02061934  0.96059601  0.26524291]\n",
      " [ 0.57288456 -0.71757046  0.970299    0.5608817 ]\n",
      " [ 0.58165252  0.9801      0.53852281  0.55196754]\n",
      " [ 0.          0.          0.          0.        ]\n",
      " [-0.19       -0.19       -0.19        0.34104146]\n",
      " [ 0.          0.          0.          0.        ]\n",
      " [-0.56953279  0.99        0.33704631  0.33309036]\n",
      " [ 0.          0.          0.          0.        ]\n",
      " [ 0.          0.          0.          0.        ]\n",
      " [ 0.          0.          0.          0.        ]\n",
      " [-0.6861894   1.          0.46386064  0.67616108]\n",
      " [ 0.          0.          0.          0.        ]\n",
      " [ 0.          0.          0.          0.        ]\n",
      " [ 0.          0.          0.          0.        ]\n",
      " [ 0.          0.          0.          0.        ]]\n"
     ]
    }
   ],
   "source": [
    "print(q_table)"
   ]
  },
  {
   "cell_type": "markdown",
   "metadata": {},
   "source": [
    "## Teste do modelo\n",
    "\n"
   ]
  },
  {
   "cell_type": "code",
   "execution_count": 29,
   "metadata": {},
   "outputs": [],
   "source": [
    "episodes = 10\n",
    "epochs = 0\n",
    "success = 0\n",
    "steps_val = []\n",
    "penalty_val = []"
   ]
  },
  {
   "cell_type": "code",
   "execution_count": 30,
   "metadata": {},
   "outputs": [
    {
     "name": "stdout",
     "output_type": "stream",
     "text": [
      "  (Down)\n",
      "SFFF\n",
      "HFHF\n",
      "FHHF\n",
      "HFF\u001b[41mG\u001b[0m\n",
      "\n",
      "\n",
      "Resultados da Avaliação:\n",
      "Taxa de sucesso: 100.00%\n",
      "Número de sucessos: 10\n",
      "Número de penalidades: 0\n",
      "Taxa de penalização: 0.00%\n",
      "Média de passos por episódio: 6.00\n"
     ]
    }
   ],
   "source": [
    "for _ in range(episodes):\n",
    "    # mapa aleatório\n",
    "    # random_map = generate_random_map(size=4, p=0.8)\n",
    "    # env = gym.make(\"FrozenLake-v1\", render_mode=\"ansi\", is_slippery=True, desc=random_map)\n",
    "    state, _ = env.reset()\n",
    "    steps, penalty = 0, 0\n",
    "    done = False\n",
    "\n",
    "    while not done:\n",
    "        action = np.argmax(q_table[state])\n",
    "        print(f\"Açao: {action}\")\n",
    "        state, reward, done, _, _ = env.step(action)\n",
    "        steps += 1\n",
    "\n",
    "        if reward == 1:\n",
    "            success += 1\n",
    "\n",
    "        if reward == 0 and done: # caiu no buraco\n",
    "            penalty += 1\n",
    "            \n",
    "    epochs += 1\n",
    "\n",
    "    clear_output(wait=True)\n",
    "    print(env.render())\n",
    "    time.sleep(.3)\n",
    "\n",
    "    steps_val.append(steps)\n",
    "    penalty_val.append(penalty)\n",
    "\n",
    "print(f\"\\nResultados da Avaliação:\")\n",
    "print(f\"Taxa de sucesso: {(success / episodes) * 100:.2f}%\")\n",
    "print(f\"Número de sucessos: {success}\")\n",
    "print(f\"Número de penalidades: {np.sum(penalty_val)}\")\n",
    "print(f\"Taxa de penalização: {np.mean(penalty_val) * 100:.2f}%\")\n",
    "print(f\"Média de passos por episódio: {np.mean(steps_val):.2f}\")\n"
   ]
  },
  {
   "cell_type": "markdown",
   "metadata": {},
   "source": [
    "## Analises Gráfica"
   ]
  },
  {
   "cell_type": "code",
   "execution_count": 31,
   "metadata": {},
   "outputs": [
    {
     "data": {
      "image/png": "[encoded data removed]",
      "text/plain": [
       "<Figure size 1000x800 with 2 Axes>"
      ]
     },
     "metadata": {},
     "output_type": "display_data"
    }
   ],
   "source": [
    "plt.figure(figsize=(10, 8))\n",
    "\n",
    "# Gráfico de Recompensa por Episódio usando Barras\n",
    "plt.subplot(2, 1, 1)\n",
    "plt.bar(range(len(total_rewards)), total_rewards)\n",
    "plt.title(\"Recompensa por Episódio\")\n",
    "plt.xlabel(\"Episódio\")\n",
    "plt.ylabel(\"Recompensa\")\n",
    "plt.yticks([-1, 0, 1])\n",
    "\n",
    "# Gráfico de Taxa de Sucesso\n",
    "plt.subplot(2, 1, 2)\n",
    "plt.plot(np.cumsum(success_rate) / np.arange(1, num_episodes + 1))\n",
    "plt.title(\"Taxa de Sucesso Acumulada\")\n",
    "plt.xlabel(\"Episódio\")\n",
    "plt.ylabel(\"Taxa de Sucesso (%)\")\n",
    "\n",
    "plt.tight_layout()\n",
    "plt.show()"
   ]
  },
  {
   "cell_type": "code",
   "execution_count": null,
   "metadata": {},
   "outputs": [],
   "source": []
  }
 ],
 "metadata": {
  "kernelspec": {
   "display_name": "Python 3",
   "language": "python",
   "name": "python3"
  },
  "language_info": {
   "codemirror_mode": {
    "name": "ipython",
    "version": 3
   },
   "file_extension": ".py",
   "mimetype": "text/x-python",
   "name": "python",
   "nbconvert_exporter": "python",
   "pygments_lexer": "ipython3",
   "version": "3.12.2"
  }
 },
 "nbformat": 4,
 "nbformat_minor": 2
}
